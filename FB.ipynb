{
 "cells": [
  {
   "cell_type": "code",
   "execution_count": 167,
   "metadata": {},
   "outputs": [],
   "source": [
    "#Import all the necessary modules\n",
    "#Import all the necessary modules\n",
    "import pandas as pd\n",
    "import numpy as np\n",
    "import os\n",
    "import seaborn as sns\n",
    "import random \n",
    "import matplotlib.pyplot as plt\n",
    "%matplotlib inline\n",
    "from sklearn.preprocessing import StandardScaler\n",
    "from sklearn.decomposition import PCA"
   ]
  },
  {
   "cell_type": "code",
   "execution_count": 168,
   "metadata": {},
   "outputs": [
    {
     "data": {
      "text/html": [
       "<div>\n",
       "<style scoped>\n",
       "    .dataframe tbody tr th:only-of-type {\n",
       "        vertical-align: middle;\n",
       "    }\n",
       "\n",
       "    .dataframe tbody tr th {\n",
       "        vertical-align: top;\n",
       "    }\n",
       "\n",
       "    .dataframe thead th {\n",
       "        text-align: right;\n",
       "    }\n",
       "</style>\n",
       "<table border=\"1\" class=\"dataframe\">\n",
       "  <thead>\n",
       "    <tr style=\"text-align: right;\">\n",
       "      <th></th>\n",
       "      <th>status_id</th>\n",
       "      <th>num_reactions</th>\n",
       "      <th>num_comments</th>\n",
       "      <th>num_shares</th>\n",
       "      <th>num_likes</th>\n",
       "      <th>num_loves</th>\n",
       "      <th>num_wows</th>\n",
       "      <th>num_hahas</th>\n",
       "      <th>num_sads</th>\n",
       "      <th>num_angrys</th>\n",
       "      <th>status_link</th>\n",
       "      <th>status_photo</th>\n",
       "      <th>status_status</th>\n",
       "    </tr>\n",
       "  </thead>\n",
       "  <tbody>\n",
       "    <tr>\n",
       "      <th>0</th>\n",
       "      <td>246675545449582_1649696485147474</td>\n",
       "      <td>529</td>\n",
       "      <td>512</td>\n",
       "      <td>262</td>\n",
       "      <td>432</td>\n",
       "      <td>92</td>\n",
       "      <td>3</td>\n",
       "      <td>1</td>\n",
       "      <td>1</td>\n",
       "      <td>0</td>\n",
       "      <td>0</td>\n",
       "      <td>0</td>\n",
       "      <td>0</td>\n",
       "    </tr>\n",
       "    <tr>\n",
       "      <th>1</th>\n",
       "      <td>246675545449582_1649426988507757</td>\n",
       "      <td>150</td>\n",
       "      <td>0</td>\n",
       "      <td>0</td>\n",
       "      <td>150</td>\n",
       "      <td>0</td>\n",
       "      <td>0</td>\n",
       "      <td>0</td>\n",
       "      <td>0</td>\n",
       "      <td>0</td>\n",
       "      <td>0</td>\n",
       "      <td>1</td>\n",
       "      <td>0</td>\n",
       "    </tr>\n",
       "    <tr>\n",
       "      <th>2</th>\n",
       "      <td>246675545449582_1648730588577397</td>\n",
       "      <td>227</td>\n",
       "      <td>236</td>\n",
       "      <td>57</td>\n",
       "      <td>204</td>\n",
       "      <td>21</td>\n",
       "      <td>1</td>\n",
       "      <td>1</td>\n",
       "      <td>0</td>\n",
       "      <td>0</td>\n",
       "      <td>0</td>\n",
       "      <td>0</td>\n",
       "      <td>0</td>\n",
       "    </tr>\n",
       "    <tr>\n",
       "      <th>3</th>\n",
       "      <td>246675545449582_1648576705259452</td>\n",
       "      <td>111</td>\n",
       "      <td>0</td>\n",
       "      <td>0</td>\n",
       "      <td>111</td>\n",
       "      <td>0</td>\n",
       "      <td>0</td>\n",
       "      <td>0</td>\n",
       "      <td>0</td>\n",
       "      <td>0</td>\n",
       "      <td>0</td>\n",
       "      <td>1</td>\n",
       "      <td>0</td>\n",
       "    </tr>\n",
       "    <tr>\n",
       "      <th>4</th>\n",
       "      <td>246675545449582_1645700502213739</td>\n",
       "      <td>213</td>\n",
       "      <td>0</td>\n",
       "      <td>0</td>\n",
       "      <td>204</td>\n",
       "      <td>9</td>\n",
       "      <td>0</td>\n",
       "      <td>0</td>\n",
       "      <td>0</td>\n",
       "      <td>0</td>\n",
       "      <td>0</td>\n",
       "      <td>1</td>\n",
       "      <td>0</td>\n",
       "    </tr>\n",
       "  </tbody>\n",
       "</table>\n",
       "</div>"
      ],
      "text/plain": [
       "                          status_id  num_reactions  num_comments  num_shares  \\\n",
       "0  246675545449582_1649696485147474            529           512         262   \n",
       "1  246675545449582_1649426988507757            150             0           0   \n",
       "2  246675545449582_1648730588577397            227           236          57   \n",
       "3  246675545449582_1648576705259452            111             0           0   \n",
       "4  246675545449582_1645700502213739            213             0           0   \n",
       "\n",
       "   num_likes  num_loves  num_wows  num_hahas  num_sads  num_angrys  \\\n",
       "0        432         92         3          1         1           0   \n",
       "1        150          0         0          0         0           0   \n",
       "2        204         21         1          1         0           0   \n",
       "3        111          0         0          0         0           0   \n",
       "4        204          9         0          0         0           0   \n",
       "\n",
       "   status_link  status_photo  status_status  \n",
       "0            0             0              0  \n",
       "1            0             1              0  \n",
       "2            0             0              0  \n",
       "3            0             1              0  \n",
       "4            0             1              0  "
      ]
     },
     "execution_count": 168,
     "metadata": {},
     "output_type": "execute_result"
    }
   ],
   "source": [
    "#os.chdir('D:\\Data')\n",
    "\n",
    "data_df = pd.read_csv(\"fb.csv\")\n",
    "data_df.head()"
   ]
  },
  {
   "cell_type": "code",
   "execution_count": 169,
   "metadata": {},
   "outputs": [
    {
     "data": {
      "text/plain": [
       "(7050, 13)"
      ]
     },
     "execution_count": 169,
     "metadata": {},
     "output_type": "execute_result"
    }
   ],
   "source": [
    "data_df.shape"
   ]
  },
  {
   "cell_type": "code",
   "execution_count": 170,
   "metadata": {},
   "outputs": [],
   "source": [
    "data_df = data_df.drop(['status_id'], axis =1)"
   ]
  },
  {
   "cell_type": "code",
   "execution_count": 171,
   "metadata": {},
   "outputs": [
    {
     "data": {
      "text/plain": [
       "num_reactions    int64\n",
       "num_comments     int64\n",
       "num_shares       int64\n",
       "num_likes        int64\n",
       "num_loves        int64\n",
       "num_wows         int64\n",
       "num_hahas        int64\n",
       "num_sads         int64\n",
       "num_angrys       int64\n",
       "status_link      int64\n",
       "status_photo     int64\n",
       "status_status    int64\n",
       "dtype: object"
      ]
     },
     "execution_count": 171,
     "metadata": {},
     "output_type": "execute_result"
    }
   ],
   "source": [
    "data_df.dtypes"
   ]
  },
  {
   "cell_type": "code",
   "execution_count": 172,
   "metadata": {},
   "outputs": [
    {
     "data": {
      "text/html": [
       "<div>\n",
       "<style scoped>\n",
       "    .dataframe tbody tr th:only-of-type {\n",
       "        vertical-align: middle;\n",
       "    }\n",
       "\n",
       "    .dataframe tbody tr th {\n",
       "        vertical-align: top;\n",
       "    }\n",
       "\n",
       "    .dataframe thead th {\n",
       "        text-align: right;\n",
       "    }\n",
       "</style>\n",
       "<table border=\"1\" class=\"dataframe\">\n",
       "  <thead>\n",
       "    <tr style=\"text-align: right;\">\n",
       "      <th></th>\n",
       "      <th>num_reactions</th>\n",
       "      <th>num_comments</th>\n",
       "      <th>num_shares</th>\n",
       "      <th>num_likes</th>\n",
       "      <th>num_loves</th>\n",
       "      <th>num_wows</th>\n",
       "      <th>num_hahas</th>\n",
       "      <th>num_sads</th>\n",
       "      <th>num_angrys</th>\n",
       "      <th>status_link</th>\n",
       "      <th>status_photo</th>\n",
       "      <th>status_status</th>\n",
       "    </tr>\n",
       "  </thead>\n",
       "  <tbody>\n",
       "    <tr>\n",
       "      <th>0</th>\n",
       "      <td>0.646104</td>\n",
       "      <td>0.323350</td>\n",
       "      <td>1.686879</td>\n",
       "      <td>0.482727</td>\n",
       "      <td>1.983266</td>\n",
       "      <td>0.196196</td>\n",
       "      <td>0.076713</td>\n",
       "      <td>0.473570</td>\n",
       "      <td>-0.155748</td>\n",
       "      <td>-0.094957</td>\n",
       "      <td>-1.245993</td>\n",
       "      <td>-0.233666</td>\n",
       "    </tr>\n",
       "    <tr>\n",
       "      <th>1</th>\n",
       "      <td>-0.173192</td>\n",
       "      <td>-0.252206</td>\n",
       "      <td>-0.304144</td>\n",
       "      <td>-0.144720</td>\n",
       "      <td>-0.318454</td>\n",
       "      <td>-0.147879</td>\n",
       "      <td>-0.176010</td>\n",
       "      <td>-0.152587</td>\n",
       "      <td>-0.155748</td>\n",
       "      <td>-0.094957</td>\n",
       "      <td>0.802573</td>\n",
       "      <td>-0.233666</td>\n",
       "    </tr>\n",
       "    <tr>\n",
       "      <th>2</th>\n",
       "      <td>-0.006738</td>\n",
       "      <td>0.013089</td>\n",
       "      <td>0.129017</td>\n",
       "      <td>-0.024571</td>\n",
       "      <td>0.206938</td>\n",
       "      <td>-0.033187</td>\n",
       "      <td>0.076713</td>\n",
       "      <td>-0.152587</td>\n",
       "      <td>-0.155748</td>\n",
       "      <td>-0.094957</td>\n",
       "      <td>-1.245993</td>\n",
       "      <td>-0.233666</td>\n",
       "    </tr>\n",
       "    <tr>\n",
       "      <th>3</th>\n",
       "      <td>-0.257499</td>\n",
       "      <td>-0.252206</td>\n",
       "      <td>-0.304144</td>\n",
       "      <td>-0.231495</td>\n",
       "      <td>-0.318454</td>\n",
       "      <td>-0.147879</td>\n",
       "      <td>-0.176010</td>\n",
       "      <td>-0.152587</td>\n",
       "      <td>-0.155748</td>\n",
       "      <td>-0.094957</td>\n",
       "      <td>0.802573</td>\n",
       "      <td>-0.233666</td>\n",
       "    </tr>\n",
       "    <tr>\n",
       "      <th>4</th>\n",
       "      <td>-0.037003</td>\n",
       "      <td>-0.252206</td>\n",
       "      <td>-0.304144</td>\n",
       "      <td>-0.024571</td>\n",
       "      <td>-0.093286</td>\n",
       "      <td>-0.147879</td>\n",
       "      <td>-0.176010</td>\n",
       "      <td>-0.152587</td>\n",
       "      <td>-0.155748</td>\n",
       "      <td>-0.094957</td>\n",
       "      <td>0.802573</td>\n",
       "      <td>-0.233666</td>\n",
       "    </tr>\n",
       "  </tbody>\n",
       "</table>\n",
       "</div>"
      ],
      "text/plain": [
       "   num_reactions  num_comments  num_shares  num_likes  num_loves  num_wows  \\\n",
       "0       0.646104      0.323350    1.686879   0.482727   1.983266  0.196196   \n",
       "1      -0.173192     -0.252206   -0.304144  -0.144720  -0.318454 -0.147879   \n",
       "2      -0.006738      0.013089    0.129017  -0.024571   0.206938 -0.033187   \n",
       "3      -0.257499     -0.252206   -0.304144  -0.231495  -0.318454 -0.147879   \n",
       "4      -0.037003     -0.252206   -0.304144  -0.024571  -0.093286 -0.147879   \n",
       "\n",
       "   num_hahas  num_sads  num_angrys  status_link  status_photo  status_status  \n",
       "0   0.076713  0.473570   -0.155748    -0.094957     -1.245993      -0.233666  \n",
       "1  -0.176010 -0.152587   -0.155748    -0.094957      0.802573      -0.233666  \n",
       "2   0.076713 -0.152587   -0.155748    -0.094957     -1.245993      -0.233666  \n",
       "3  -0.176010 -0.152587   -0.155748    -0.094957      0.802573      -0.233666  \n",
       "4  -0.176010 -0.152587   -0.155748    -0.094957      0.802573      -0.233666  "
      ]
     },
     "execution_count": 172,
     "metadata": {},
     "output_type": "execute_result"
    }
   ],
   "source": [
    "from scipy.stats import zscore\n",
    "data_new=data_df.apply(zscore)\n",
    "data_new.head()"
   ]
  },
  {
   "cell_type": "code",
   "execution_count": 173,
   "metadata": {},
   "outputs": [
    {
     "name": "stdout",
     "output_type": "stream",
     "text": [
      "Covariance Matrix \n",
      "%s [[ 1.00014186  0.1508643   0.25075809  0.99506451  0.30504605  0.2677898\n",
      "   0.17605301  0.07514867  0.1243437   0.02874721 -0.13153369  0.10541715]\n",
      " [ 0.1508643   1.00014186  0.64072829  0.10170146  0.52129743  0.16241703\n",
      "   0.32509411  0.23648623  0.22521631 -0.02334367 -0.29188709 -0.04942026]\n",
      " [ 0.25075809  0.64072829  1.00014186  0.1725164   0.82011657  0.40768568\n",
      "   0.39988229  0.19999833  0.31255689 -0.02571137 -0.35483022 -0.06653382]\n",
      " [ 0.99506451  0.10170146  0.1725164   1.00014186  0.20933778  0.20782924\n",
      "   0.12080097  0.05217624  0.08744305  0.03266301 -0.10055153  0.11464773]\n",
      " [ 0.30504605  0.52129743  0.82011657  0.20933778  1.00014186  0.50887022\n",
      "   0.50790168  0.20762964  0.3710539  -0.02952704 -0.35179053 -0.06529185]\n",
      " [ 0.2677898   0.16241703  0.40768568  0.20782924  0.50887022  1.00014186\n",
      "   0.28779702  0.08651499  0.18311248 -0.01196935 -0.0864212  -0.00312953]\n",
      " [ 0.17605301  0.32509411  0.39988229  0.12080097  0.50790168  0.28779702\n",
      "   1.00014186  0.14144092  0.21194022 -0.01595372 -0.15925947 -0.03466092]\n",
      " [ 0.07514867  0.23648623  0.19999833  0.05217624  0.20762964  0.08651499\n",
      "   0.14144092  1.00014186  0.14209263 -0.01449119 -0.07896406  0.02086898]\n",
      " [ 0.1243437   0.22521631  0.31255689  0.08744305  0.3710539   0.18311248\n",
      "   0.21194022  0.14209263  1.00014186 -0.01479139 -0.11571171 -0.02846925]\n",
      " [ 0.02874721 -0.02334367 -0.02571137  0.03266301 -0.02952704 -0.01196935\n",
      "  -0.01595372 -0.01449119 -0.01479139  1.00014186 -0.11833196 -0.02219127]\n",
      " [-0.13153369 -0.29188709 -0.35483022 -0.10055153 -0.35179053 -0.0864212\n",
      "  -0.15925947 -0.07896406 -0.11571171 -0.11833196  1.00014186 -0.2911876 ]\n",
      " [ 0.10541715 -0.04942026 -0.06653382  0.11464773 -0.06529185 -0.00312953\n",
      "  -0.03466092  0.02086898 -0.02846925 -0.02219127 -0.2911876   1.00014186]]\n"
     ]
    }
   ],
   "source": [
    "# PCA\n",
    "# Step 1 - Create covariance matrix\n",
    "\n",
    "cov_matrix = np.cov(data_new.T)\n",
    "print('Covariance Matrix \\n%s', cov_matrix)\n"
   ]
  },
  {
   "cell_type": "code",
   "execution_count": 174,
   "metadata": {},
   "outputs": [
    {
     "name": "stdout",
     "output_type": "stream",
     "text": [
      "Eigen Vectors \n",
      "%s [[ 2.93630543e-01  6.06641137e-01  7.15773171e-01  2.03910032e-02\n",
      "  -1.12002407e-01  4.82435866e-03  3.20850086e-02  2.42016415e-02\n",
      "  -6.97861393e-02  8.52072210e-02  8.18911389e-02 -1.04601450e-03]\n",
      " [ 3.47497866e-01 -2.30746002e-01 -1.26384681e-06  1.67785969e-01\n",
      "   8.75480006e-02 -5.17376834e-01 -5.15597556e-01 -3.99866919e-02\n",
      "  -1.69312690e-01  4.37540439e-01  1.86287704e-01  1.59573424e-02]\n",
      " [ 4.43254435e-01 -2.04910484e-01  1.73179788e-05 -6.71346886e-01\n",
      "   3.92859022e-03  4.57024584e-01 -1.12734594e-01 -2.04542894e-01\n",
      "  -5.09397191e-02  1.96740735e-01 -6.98659821e-02 -3.48387949e-02]\n",
      " [ 2.51769604e-01  6.40653903e-01 -6.95423734e-01 -3.90502026e-02\n",
      "  -1.05702016e-01 -2.79737958e-02  2.54206909e-02  3.28768718e-02\n",
      "  -8.70489869e-02  9.66955499e-02  1.02090297e-01  1.73807760e-03]\n",
      " [ 4.61255079e-01 -1.65917245e-01 -6.18696218e-02  7.03643043e-01\n",
      "  -5.18155502e-02  4.72074756e-01  7.92827429e-02 -8.44140094e-02\n",
      "   3.53002915e-02  4.86999544e-03 -1.39427366e-01 -3.33633828e-02]\n",
      " [ 2.96340391e-01  1.62620307e-02 -1.34885816e-02 -7.08473070e-02\n",
      "  -2.11548727e-01 -4.17684976e-01 -2.93540341e-02 -4.07729726e-01\n",
      "   4.88194788e-01 -3.72249407e-01 -3.77299473e-01 -3.37517224e-02]\n",
      " [ 3.08854346e-01 -1.39033435e-01 -6.11926720e-03 -1.19364205e-01\n",
      "  -1.01800997e-01 -9.89072403e-02  6.43937564e-02  8.72041584e-01\n",
      "   2.54094006e-01 -5.77002760e-02 -1.34291828e-01 -1.78014533e-02]\n",
      " [ 1.63130579e-01 -1.10415493e-01 -2.46986519e-03 -2.15417600e-02\n",
      "   4.98793399e-02  2.79589183e-02  1.61485163e-01 -8.01933929e-02\n",
      "   4.06107733e-01 -1.73120550e-01  8.16405043e-01  2.52065840e-01]\n",
      " [ 2.37246758e-01 -1.26874184e-01 -1.12235269e-03 -4.90180785e-02\n",
      "  -8.92316571e-02 -1.08786107e-01 -1.31307099e-02  3.56999871e-02\n",
      "  -6.61974694e-01 -6.69842952e-01  1.23557407e-01  4.24590001e-02]\n",
      " [-1.38340912e-03  6.41854579e-02  2.77128984e-08  1.08316035e-02\n",
      "   2.35213036e-01  6.50090460e-02 -2.07490740e-01  2.77449796e-02\n",
      "   1.24037696e-01 -1.90214360e-01  2.09968130e-01 -8.92599564e-01]\n",
      " [-2.32613706e-01  3.65506390e-02 -2.10860170e-06  3.74449557e-02\n",
      "  -6.43419111e-01  2.64740805e-01 -6.39131228e-01  7.27513701e-02\n",
      "   1.14406851e-01 -1.20870465e-01  1.11485989e-01  7.18869432e-02]\n",
      " [ 1.37973532e-02  2.13188742e-01  1.59933119e-07  2.08221545e-02\n",
      "   6.56534644e-01  1.69162607e-01 -4.80301401e-01  8.54568120e-02\n",
      "   1.43312376e-01 -2.86124118e-01 -1.58614319e-01  3.58771030e-01]]\n",
      "\n",
      " Eigen Values \n",
      "%s [3.59628800e+00 1.78479109e+00 1.64801523e-08 1.48486541e-01\n",
      " 1.25112250e+00 3.58889859e-01 5.28735394e-01 6.95632348e-01\n",
      " 8.11985438e-01 8.49591639e-01 9.55282786e-01 1.02089676e+00]\n"
     ]
    }
   ],
   "source": [
    "# Step 2- Get eigen values and eigen vector\n",
    "eig_vals, eig_vecs = np.linalg.eig(cov_matrix)\n",
    "print('Eigen Vectors \\n%s', eig_vecs)\n",
    "print('\\n Eigen Values \\n%s', eig_vals)"
   ]
  },
  {
   "cell_type": "code",
   "execution_count": 176,
   "metadata": {},
   "outputs": [
    {
     "name": "stdout",
     "output_type": "stream",
     "text": [
      "Cumulative Variance Explained:  [ 33.52769679  64.13994169  86.0058309  100.        ]\n"
     ]
    }
   ],
   "source": [
    "eig = [2.3, 2.1, 1.5, 0.96]\n",
    "tot = sum(eig)\n",
    "var_exp = [( i /tot ) * 100 for i in sorted(eig, reverse=True)]\n",
    "cum_var_exp = np.cumsum(var_exp)\n",
    "print(\"Cumulative Variance Explained: \", cum_var_exp)"
   ]
  },
  {
   "cell_type": "code",
   "execution_count": 110,
   "metadata": {},
   "outputs": [
    {
     "data": {
      "text/plain": [
       "Index(['status_id', 'num_reactions', 'num_comments', 'num_shares', 'num_likes',\n",
       "       'num_loves', 'num_wows', 'num_hahas', 'num_sads', 'num_angrys',\n",
       "       'status_link', 'status_photo', 'status_status'],\n",
       "      dtype='object')"
      ]
     },
     "execution_count": 110,
     "metadata": {},
     "output_type": "execute_result"
    }
   ],
   "source": [
    "fbcols = data_df.columns\n",
    "fbcols"
   ]
  },
  {
   "cell_type": "code",
   "execution_count": 111,
   "metadata": {},
   "outputs": [
    {
     "name": "stdout",
     "output_type": "stream",
     "text": [
      "status_id 6997\n",
      "num_reactions 1067\n",
      "num_comments 993\n",
      "num_shares 501\n",
      "num_likes 1044\n",
      "num_loves 229\n",
      "num_wows 65\n",
      "num_hahas 42\n",
      "num_sads 24\n",
      "num_angrys 14\n",
      "status_link 2\n",
      "status_photo 2\n",
      "status_status 2\n"
     ]
    }
   ],
   "source": [
    "i = 0\n",
    "while i < data_df.shape[1]:\n",
    "    print(fbcols[i], data_df[fbcols[i]].nunique())\n",
    "    i = i + 1"
   ]
  },
  {
   "cell_type": "code",
   "execution_count": 112,
   "metadata": {},
   "outputs": [
    {
     "data": {
      "text/plain": [
       "status_id        0\n",
       "num_reactions    0\n",
       "num_comments     0\n",
       "num_shares       0\n",
       "num_likes        0\n",
       "num_loves        0\n",
       "num_wows         0\n",
       "num_hahas        0\n",
       "num_sads         0\n",
       "num_angrys       0\n",
       "status_link      0\n",
       "status_photo     0\n",
       "status_status    0\n",
       "dtype: int64"
      ]
     },
     "execution_count": 112,
     "metadata": {},
     "output_type": "execute_result"
    }
   ],
   "source": [
    "data_df.isna().sum()"
   ]
  },
  {
   "cell_type": "code",
   "execution_count": 113,
   "metadata": {},
   "outputs": [
    {
     "data": {
      "text/html": [
       "<div>\n",
       "<style scoped>\n",
       "    .dataframe tbody tr th:only-of-type {\n",
       "        vertical-align: middle;\n",
       "    }\n",
       "\n",
       "    .dataframe tbody tr th {\n",
       "        vertical-align: top;\n",
       "    }\n",
       "\n",
       "    .dataframe thead th {\n",
       "        text-align: right;\n",
       "    }\n",
       "</style>\n",
       "<table border=\"1\" class=\"dataframe\">\n",
       "  <thead>\n",
       "    <tr style=\"text-align: right;\">\n",
       "      <th></th>\n",
       "      <th>num_reactions</th>\n",
       "      <th>num_comments</th>\n",
       "      <th>num_shares</th>\n",
       "      <th>num_likes</th>\n",
       "      <th>num_loves</th>\n",
       "      <th>num_wows</th>\n",
       "      <th>num_hahas</th>\n",
       "      <th>num_sads</th>\n",
       "      <th>num_angrys</th>\n",
       "      <th>status_link</th>\n",
       "      <th>status_photo</th>\n",
       "      <th>status_status</th>\n",
       "    </tr>\n",
       "  </thead>\n",
       "  <tbody>\n",
       "    <tr>\n",
       "      <th>num_reactions</th>\n",
       "      <td>1.000000</td>\n",
       "      <td>0.150843</td>\n",
       "      <td>0.250723</td>\n",
       "      <td>0.994923</td>\n",
       "      <td>0.305003</td>\n",
       "      <td>0.267752</td>\n",
       "      <td>0.176028</td>\n",
       "      <td>0.075138</td>\n",
       "      <td>0.124326</td>\n",
       "      <td>0.028743</td>\n",
       "      <td>-0.131515</td>\n",
       "      <td>0.105402</td>\n",
       "    </tr>\n",
       "    <tr>\n",
       "      <th>num_comments</th>\n",
       "      <td>0.150843</td>\n",
       "      <td>1.000000</td>\n",
       "      <td>0.640637</td>\n",
       "      <td>0.101687</td>\n",
       "      <td>0.521223</td>\n",
       "      <td>0.162394</td>\n",
       "      <td>0.325048</td>\n",
       "      <td>0.236453</td>\n",
       "      <td>0.225184</td>\n",
       "      <td>-0.023340</td>\n",
       "      <td>-0.291846</td>\n",
       "      <td>-0.049413</td>\n",
       "    </tr>\n",
       "    <tr>\n",
       "      <th>num_shares</th>\n",
       "      <td>0.250723</td>\n",
       "      <td>0.640637</td>\n",
       "      <td>1.000000</td>\n",
       "      <td>0.172492</td>\n",
       "      <td>0.820000</td>\n",
       "      <td>0.407628</td>\n",
       "      <td>0.399826</td>\n",
       "      <td>0.199970</td>\n",
       "      <td>0.312513</td>\n",
       "      <td>-0.025708</td>\n",
       "      <td>-0.354780</td>\n",
       "      <td>-0.066524</td>\n",
       "    </tr>\n",
       "    <tr>\n",
       "      <th>num_likes</th>\n",
       "      <td>0.994923</td>\n",
       "      <td>0.101687</td>\n",
       "      <td>0.172492</td>\n",
       "      <td>1.000000</td>\n",
       "      <td>0.209308</td>\n",
       "      <td>0.207800</td>\n",
       "      <td>0.120784</td>\n",
       "      <td>0.052169</td>\n",
       "      <td>0.087431</td>\n",
       "      <td>0.032658</td>\n",
       "      <td>-0.100537</td>\n",
       "      <td>0.114631</td>\n",
       "    </tr>\n",
       "    <tr>\n",
       "      <th>num_loves</th>\n",
       "      <td>0.305003</td>\n",
       "      <td>0.521223</td>\n",
       "      <td>0.820000</td>\n",
       "      <td>0.209308</td>\n",
       "      <td>1.000000</td>\n",
       "      <td>0.508798</td>\n",
       "      <td>0.507830</td>\n",
       "      <td>0.207600</td>\n",
       "      <td>0.371001</td>\n",
       "      <td>-0.029523</td>\n",
       "      <td>-0.351741</td>\n",
       "      <td>-0.065283</td>\n",
       "    </tr>\n",
       "    <tr>\n",
       "      <th>num_wows</th>\n",
       "      <td>0.267752</td>\n",
       "      <td>0.162394</td>\n",
       "      <td>0.407628</td>\n",
       "      <td>0.207800</td>\n",
       "      <td>0.508798</td>\n",
       "      <td>1.000000</td>\n",
       "      <td>0.287756</td>\n",
       "      <td>0.086503</td>\n",
       "      <td>0.183087</td>\n",
       "      <td>-0.011968</td>\n",
       "      <td>-0.086409</td>\n",
       "      <td>-0.003129</td>\n",
       "    </tr>\n",
       "    <tr>\n",
       "      <th>num_hahas</th>\n",
       "      <td>0.176028</td>\n",
       "      <td>0.325048</td>\n",
       "      <td>0.399826</td>\n",
       "      <td>0.120784</td>\n",
       "      <td>0.507830</td>\n",
       "      <td>0.287756</td>\n",
       "      <td>1.000000</td>\n",
       "      <td>0.141421</td>\n",
       "      <td>0.211910</td>\n",
       "      <td>-0.015951</td>\n",
       "      <td>-0.159237</td>\n",
       "      <td>-0.034656</td>\n",
       "    </tr>\n",
       "    <tr>\n",
       "      <th>num_sads</th>\n",
       "      <td>0.075138</td>\n",
       "      <td>0.236453</td>\n",
       "      <td>0.199970</td>\n",
       "      <td>0.052169</td>\n",
       "      <td>0.207600</td>\n",
       "      <td>0.086503</td>\n",
       "      <td>0.141421</td>\n",
       "      <td>1.000000</td>\n",
       "      <td>0.142072</td>\n",
       "      <td>-0.014489</td>\n",
       "      <td>-0.078953</td>\n",
       "      <td>0.020866</td>\n",
       "    </tr>\n",
       "    <tr>\n",
       "      <th>num_angrys</th>\n",
       "      <td>0.124326</td>\n",
       "      <td>0.225184</td>\n",
       "      <td>0.312513</td>\n",
       "      <td>0.087431</td>\n",
       "      <td>0.371001</td>\n",
       "      <td>0.183087</td>\n",
       "      <td>0.211910</td>\n",
       "      <td>0.142072</td>\n",
       "      <td>1.000000</td>\n",
       "      <td>-0.014789</td>\n",
       "      <td>-0.115695</td>\n",
       "      <td>-0.028465</td>\n",
       "    </tr>\n",
       "    <tr>\n",
       "      <th>status_link</th>\n",
       "      <td>0.028743</td>\n",
       "      <td>-0.023340</td>\n",
       "      <td>-0.025708</td>\n",
       "      <td>0.032658</td>\n",
       "      <td>-0.029523</td>\n",
       "      <td>-0.011968</td>\n",
       "      <td>-0.015951</td>\n",
       "      <td>-0.014489</td>\n",
       "      <td>-0.014789</td>\n",
       "      <td>1.000000</td>\n",
       "      <td>-0.118315</td>\n",
       "      <td>-0.022188</td>\n",
       "    </tr>\n",
       "    <tr>\n",
       "      <th>status_photo</th>\n",
       "      <td>-0.131515</td>\n",
       "      <td>-0.291846</td>\n",
       "      <td>-0.354780</td>\n",
       "      <td>-0.100537</td>\n",
       "      <td>-0.351741</td>\n",
       "      <td>-0.086409</td>\n",
       "      <td>-0.159237</td>\n",
       "      <td>-0.078953</td>\n",
       "      <td>-0.115695</td>\n",
       "      <td>-0.118315</td>\n",
       "      <td>1.000000</td>\n",
       "      <td>-0.291146</td>\n",
       "    </tr>\n",
       "    <tr>\n",
       "      <th>status_status</th>\n",
       "      <td>0.105402</td>\n",
       "      <td>-0.049413</td>\n",
       "      <td>-0.066524</td>\n",
       "      <td>0.114631</td>\n",
       "      <td>-0.065283</td>\n",
       "      <td>-0.003129</td>\n",
       "      <td>-0.034656</td>\n",
       "      <td>0.020866</td>\n",
       "      <td>-0.028465</td>\n",
       "      <td>-0.022188</td>\n",
       "      <td>-0.291146</td>\n",
       "      <td>1.000000</td>\n",
       "    </tr>\n",
       "  </tbody>\n",
       "</table>\n",
       "</div>"
      ],
      "text/plain": [
       "               num_reactions  num_comments  num_shares  num_likes  num_loves  \\\n",
       "num_reactions       1.000000      0.150843    0.250723   0.994923   0.305003   \n",
       "num_comments        0.150843      1.000000    0.640637   0.101687   0.521223   \n",
       "num_shares          0.250723      0.640637    1.000000   0.172492   0.820000   \n",
       "num_likes           0.994923      0.101687    0.172492   1.000000   0.209308   \n",
       "num_loves           0.305003      0.521223    0.820000   0.209308   1.000000   \n",
       "num_wows            0.267752      0.162394    0.407628   0.207800   0.508798   \n",
       "num_hahas           0.176028      0.325048    0.399826   0.120784   0.507830   \n",
       "num_sads            0.075138      0.236453    0.199970   0.052169   0.207600   \n",
       "num_angrys          0.124326      0.225184    0.312513   0.087431   0.371001   \n",
       "status_link         0.028743     -0.023340   -0.025708   0.032658  -0.029523   \n",
       "status_photo       -0.131515     -0.291846   -0.354780  -0.100537  -0.351741   \n",
       "status_status       0.105402     -0.049413   -0.066524   0.114631  -0.065283   \n",
       "\n",
       "               num_wows  num_hahas  num_sads  num_angrys  status_link  \\\n",
       "num_reactions  0.267752   0.176028  0.075138    0.124326     0.028743   \n",
       "num_comments   0.162394   0.325048  0.236453    0.225184    -0.023340   \n",
       "num_shares     0.407628   0.399826  0.199970    0.312513    -0.025708   \n",
       "num_likes      0.207800   0.120784  0.052169    0.087431     0.032658   \n",
       "num_loves      0.508798   0.507830  0.207600    0.371001    -0.029523   \n",
       "num_wows       1.000000   0.287756  0.086503    0.183087    -0.011968   \n",
       "num_hahas      0.287756   1.000000  0.141421    0.211910    -0.015951   \n",
       "num_sads       0.086503   0.141421  1.000000    0.142072    -0.014489   \n",
       "num_angrys     0.183087   0.211910  0.142072    1.000000    -0.014789   \n",
       "status_link   -0.011968  -0.015951 -0.014489   -0.014789     1.000000   \n",
       "status_photo  -0.086409  -0.159237 -0.078953   -0.115695    -0.118315   \n",
       "status_status -0.003129  -0.034656  0.020866   -0.028465    -0.022188   \n",
       "\n",
       "               status_photo  status_status  \n",
       "num_reactions     -0.131515       0.105402  \n",
       "num_comments      -0.291846      -0.049413  \n",
       "num_shares        -0.354780      -0.066524  \n",
       "num_likes         -0.100537       0.114631  \n",
       "num_loves         -0.351741      -0.065283  \n",
       "num_wows          -0.086409      -0.003129  \n",
       "num_hahas         -0.159237      -0.034656  \n",
       "num_sads          -0.078953       0.020866  \n",
       "num_angrys        -0.115695      -0.028465  \n",
       "status_link       -0.118315      -0.022188  \n",
       "status_photo       1.000000      -0.291146  \n",
       "status_status     -0.291146       1.000000  "
      ]
     },
     "execution_count": 113,
     "metadata": {},
     "output_type": "execute_result"
    }
   ],
   "source": [
    "data_df.corr(method='pearson')"
   ]
  },
  {
   "cell_type": "code",
   "execution_count": 114,
   "metadata": {},
   "outputs": [
    {
     "data": {
      "text/plain": [
       "<matplotlib.axes._subplots.AxesSubplot at 0x270984c6f88>"
      ]
     },
     "execution_count": 114,
     "metadata": {},
     "output_type": "execute_result"
    },
    {
     "data": {
      "image/png": "[encoded data removed]",
      "text/plain": [
       "<Figure size 1440x216 with 1 Axes>"
      ]
     },
     "metadata": {
      "needs_background": "light"
     },
     "output_type": "display_data"
    }
   ],
   "source": [
    "data_df.boxplot(figsize=(20,3))"
   ]
  },
  {
   "cell_type": "code",
   "execution_count": 115,
   "metadata": {},
   "outputs": [
    {
     "data": {
      "text/plain": [
       "<matplotlib.axes._subplots.AxesSubplot at 0x2709866f6c8>"
      ]
     },
     "execution_count": 115,
     "metadata": {},
     "output_type": "execute_result"
    },
    {
     "data": {
      "image/png": "[encoded data removed]",
      "text/plain": [
       "<Figure size 720x576 with 2 Axes>"
      ]
     },
     "metadata": {
      "needs_background": "light"
     },
     "output_type": "display_data"
    }
   ],
   "source": [
    "plt.subplots(figsize=(10,8))\n",
    "sns.heatmap(data_df.corr(), annot=True)  # plot the correlation coefficients as a heatmap"
   ]
  },
  {
   "cell_type": "code",
   "execution_count": null,
   "metadata": {},
   "outputs": [],
   "source": []
  },
  {
   "cell_type": "code",
   "execution_count": 116,
   "metadata": {},
   "outputs": [],
   "source": [
    "def remove_outlier(col):\n",
    "    sorted(col)\n",
    "    Q1,Q3=np.percentile(col,[25,75])\n",
    "    IQR=Q3-Q1\n",
    "    lower_range= Q1-(1.5 * IQR)\n",
    "    upper_range= Q3+(1.5 * IQR)\n",
    "    return lower_range, upper_range"
   ]
  },
  {
   "cell_type": "code",
   "execution_count": 117,
   "metadata": {},
   "outputs": [],
   "source": [
    "lr1,ur1=remove_outlier(data_df['num_reactions'])\n",
    "data_df['num_reactions']=np.where(data_df['num_reactions']>ur1,ur1,data_df['num_reactions'])\n",
    "data_df['num_reactions']=np.where(data_df['num_reactions']<lr1,lr1,data_df['num_reactions'])\n",
    "\n",
    "lr2,ur2=remove_outlier(data_df['num_comments'])\n",
    "data_df['num_comments']=np.where(data_df['num_comments']>ur2,ur2,data_df['num_comments'])\n",
    "data_df['num_comments']=np.where(data_df['num_comments']<lr2,lr2,data_df['num_comments'])\n",
    "\n",
    "lr3,ur3=remove_outlier(data_df['num_shares'])\n",
    "data_df['num_shares']=np.where(data_df['num_shares']>ur3,ur3,data_df['num_shares'])\n",
    "data_df['num_shares']=np.where(data_df['num_shares']<lr3,lr3,data_df['num_shares'])\n",
    "\n",
    "lr4,ur4=remove_outlier(data_df['num_likes'])\n",
    "data_df['num_likes']=np.where(data_df['num_likes']>ur4,ur4,data_df['num_likes'])\n",
    "data_df['num_likes']=np.where(data_df['num_likes']<lr4,lr4,data_df['num_likes'])\n",
    "\n",
    "lr5,ur5=remove_outlier(data_df['num_loves'])\n",
    "data_df['num_loves']=np.where(data_df['num_loves']>ur5,ur5,data_df['num_loves'])\n",
    "data_df['num_loves']=np.where(data_df['num_loves']<lr5,lr5,data_df['num_loves'])\n",
    "\n",
    "lr6,ur6=remove_outlier(data_df['num_wows'])\n",
    "data_df['num_wows']=np.where(data_df['num_wows']>ur6,ur6,data_df['num_wows'])\n",
    "data_df['num_wows']=np.where(data_df['num_wows']<lr6,lr6,data_df['num_wows'])\n",
    "\n",
    "lr7,ur7=remove_outlier(data_df['num_hahas'])\n",
    "data_df['num_hahas']=np.where(data_df['num_hahas']>ur7,ur7,data_df['num_hahas'])\n",
    "data_df['num_hahas']=np.where(data_df['num_hahas']<lr7,lr7,data_df['num_hahas'])\n",
    "\n",
    "lr8,ur8=remove_outlier(data_df['num_sads'])\n",
    "data_df['num_sads']=np.where(data_df['num_sads']>ur8,ur8,data_df['num_sads'])\n",
    "data_df['num_sads']=np.where(data_df['num_sads']<lr8,lr8,data_df['num_sads'])\n",
    "\n",
    "lr9,ur9=remove_outlier(data_df['num_angrys'])\n",
    "data_df['num_angrys']=np.where(data_df['num_angrys']>ur9,ur9,data_df['num_angrys'])\n",
    "data_df['num_angrys']=np.where(data_df['num_angrys']<lr9,lr9,data_df['num_angrys'])\n",
    "\n",
    "lr10,ur10=remove_outlier(data_df['status_link'])\n",
    "data_df['status_link']=np.where(data_df['status_link']>ur10,ur10,data_df['status_link'])\n",
    "data_df['status_link']=np.where(data_df['status_link']<lr10,lr10,data_df['status_link'])\n",
    "\n",
    "lr11,ur11=remove_outlier(data_df['status_status'])\n",
    "data_df['status_status']=np.where(data_df['status_status']>ur11,ur11,data_df['status_status'])\n",
    "data_df['status_status']=np.where(data_df['status_status']<lr11,lr11,data_df['status_status'])\n",
    "\n"
   ]
  },
  {
   "cell_type": "code",
   "execution_count": 120,
   "metadata": {},
   "outputs": [
    {
     "data": {
      "text/plain": [
       "<matplotlib.axes._subplots.AxesSubplot at 0x2709858e0c8>"
      ]
     },
     "execution_count": 120,
     "metadata": {},
     "output_type": "execute_result"
    },
    {
     "data": {
      "image/png": "[encoded data removed]",
      "text/plain": [
       "<Figure size 1440x216 with 1 Axes>"
      ]
     },
     "metadata": {
      "needs_background": "light"
     },
     "output_type": "display_data"
    }
   ],
   "source": [
    "data_df.boxplot(figsize=(20,3))"
   ]
  },
  {
   "cell_type": "code",
   "execution_count": 155,
   "metadata": {},
   "outputs": [],
   "source": [
    "data_df = data_df.drop(['status_id'], axis =1)"
   ]
  },
  {
   "cell_type": "code",
   "execution_count": 164,
   "metadata": {},
   "outputs": [
    {
     "data": {
      "text/html": [
       "<div>\n",
       "<style scoped>\n",
       "    .dataframe tbody tr th:only-of-type {\n",
       "        vertical-align: middle;\n",
       "    }\n",
       "\n",
       "    .dataframe tbody tr th {\n",
       "        vertical-align: top;\n",
       "    }\n",
       "\n",
       "    .dataframe thead th {\n",
       "        text-align: right;\n",
       "    }\n",
       "</style>\n",
       "<table border=\"1\" class=\"dataframe\">\n",
       "  <thead>\n",
       "    <tr style=\"text-align: right;\">\n",
       "      <th></th>\n",
       "      <th>num_reactions</th>\n",
       "      <th>num_comments</th>\n",
       "      <th>num_shares</th>\n",
       "      <th>num_likes</th>\n",
       "      <th>num_loves</th>\n",
       "      <th>num_wows</th>\n",
       "      <th>num_hahas</th>\n",
       "      <th>num_sads</th>\n",
       "      <th>num_angrys</th>\n",
       "      <th>status_link</th>\n",
       "      <th>status_photo</th>\n",
       "      <th>status_status</th>\n",
       "    </tr>\n",
       "  </thead>\n",
       "  <tbody>\n",
       "    <tr>\n",
       "      <th>0</th>\n",
       "      <td>522.0</td>\n",
       "      <td>57.5</td>\n",
       "      <td>10.0</td>\n",
       "      <td>432.0</td>\n",
       "      <td>7.5</td>\n",
       "      <td>0.0</td>\n",
       "      <td>0.0</td>\n",
       "      <td>0.0</td>\n",
       "      <td>0.0</td>\n",
       "      <td>0.0</td>\n",
       "      <td>0</td>\n",
       "      <td>0.0</td>\n",
       "    </tr>\n",
       "    <tr>\n",
       "      <th>1</th>\n",
       "      <td>150.0</td>\n",
       "      <td>0.0</td>\n",
       "      <td>0.0</td>\n",
       "      <td>150.0</td>\n",
       "      <td>0.0</td>\n",
       "      <td>0.0</td>\n",
       "      <td>0.0</td>\n",
       "      <td>0.0</td>\n",
       "      <td>0.0</td>\n",
       "      <td>0.0</td>\n",
       "      <td>1</td>\n",
       "      <td>0.0</td>\n",
       "    </tr>\n",
       "    <tr>\n",
       "      <th>2</th>\n",
       "      <td>227.0</td>\n",
       "      <td>57.5</td>\n",
       "      <td>10.0</td>\n",
       "      <td>204.0</td>\n",
       "      <td>7.5</td>\n",
       "      <td>0.0</td>\n",
       "      <td>0.0</td>\n",
       "      <td>0.0</td>\n",
       "      <td>0.0</td>\n",
       "      <td>0.0</td>\n",
       "      <td>0</td>\n",
       "      <td>0.0</td>\n",
       "    </tr>\n",
       "    <tr>\n",
       "      <th>3</th>\n",
       "      <td>111.0</td>\n",
       "      <td>0.0</td>\n",
       "      <td>0.0</td>\n",
       "      <td>111.0</td>\n",
       "      <td>0.0</td>\n",
       "      <td>0.0</td>\n",
       "      <td>0.0</td>\n",
       "      <td>0.0</td>\n",
       "      <td>0.0</td>\n",
       "      <td>0.0</td>\n",
       "      <td>1</td>\n",
       "      <td>0.0</td>\n",
       "    </tr>\n",
       "    <tr>\n",
       "      <th>4</th>\n",
       "      <td>213.0</td>\n",
       "      <td>0.0</td>\n",
       "      <td>0.0</td>\n",
       "      <td>204.0</td>\n",
       "      <td>7.5</td>\n",
       "      <td>0.0</td>\n",
       "      <td>0.0</td>\n",
       "      <td>0.0</td>\n",
       "      <td>0.0</td>\n",
       "      <td>0.0</td>\n",
       "      <td>1</td>\n",
       "      <td>0.0</td>\n",
       "    </tr>\n",
       "  </tbody>\n",
       "</table>\n",
       "</div>"
      ],
      "text/plain": [
       "   num_reactions  num_comments  num_shares  num_likes  num_loves  num_wows  \\\n",
       "0          522.0          57.5        10.0      432.0        7.5       0.0   \n",
       "1          150.0           0.0         0.0      150.0        0.0       0.0   \n",
       "2          227.0          57.5        10.0      204.0        7.5       0.0   \n",
       "3          111.0           0.0         0.0      111.0        0.0       0.0   \n",
       "4          213.0           0.0         0.0      204.0        7.5       0.0   \n",
       "\n",
       "   num_hahas  num_sads  num_angrys  status_link  status_photo  status_status  \n",
       "0        0.0       0.0         0.0          0.0             0            0.0  \n",
       "1        0.0       0.0         0.0          0.0             1            0.0  \n",
       "2        0.0       0.0         0.0          0.0             0            0.0  \n",
       "3        0.0       0.0         0.0          0.0             1            0.0  \n",
       "4        0.0       0.0         0.0          0.0             1            0.0  "
      ]
     },
     "execution_count": 164,
     "metadata": {},
     "output_type": "execute_result"
    }
   ],
   "source": [
    "data_df.head()"
   ]
  },
  {
   "cell_type": "code",
   "execution_count": 165,
   "metadata": {},
   "outputs": [
    {
     "data": {
      "text/plain": [
       "(7050, 12)"
      ]
     },
     "execution_count": 165,
     "metadata": {},
     "output_type": "execute_result"
    }
   ],
   "source": [
    "data_df.shape"
   ]
  },
  {
   "cell_type": "code",
   "execution_count": 166,
   "metadata": {},
   "outputs": [
    {
     "name": "stderr",
     "output_type": "stream",
     "text": [
      "C:\\ProgramData\\Anaconda3\\lib\\site-packages\\scipy\\stats\\stats.py:2419: RuntimeWarning: invalid value encountered in true_divide\n",
      "  return (a - mns) / sstd\n"
     ]
    },
    {
     "data": {
      "text/html": [
       "<div>\n",
       "<style scoped>\n",
       "    .dataframe tbody tr th:only-of-type {\n",
       "        vertical-align: middle;\n",
       "    }\n",
       "\n",
       "    .dataframe tbody tr th {\n",
       "        vertical-align: top;\n",
       "    }\n",
       "\n",
       "    .dataframe thead th {\n",
       "        text-align: right;\n",
       "    }\n",
       "</style>\n",
       "<table border=\"1\" class=\"dataframe\">\n",
       "  <thead>\n",
       "    <tr style=\"text-align: right;\">\n",
       "      <th></th>\n",
       "      <th>num_reactions</th>\n",
       "      <th>num_comments</th>\n",
       "      <th>num_shares</th>\n",
       "      <th>num_likes</th>\n",
       "      <th>num_loves</th>\n",
       "      <th>num_wows</th>\n",
       "      <th>num_hahas</th>\n",
       "      <th>num_sads</th>\n",
       "      <th>num_angrys</th>\n",
       "      <th>status_link</th>\n",
       "      <th>status_photo</th>\n",
       "      <th>status_status</th>\n",
       "    </tr>\n",
       "  </thead>\n",
       "  <tbody>\n",
       "    <tr>\n",
       "      <th>0</th>\n",
       "      <td>2.260494</td>\n",
       "      <td>1.866293</td>\n",
       "      <td>1.849082</td>\n",
       "      <td>2.155071</td>\n",
       "      <td>1.864833</td>\n",
       "      <td>NaN</td>\n",
       "      <td>NaN</td>\n",
       "      <td>NaN</td>\n",
       "      <td>NaN</td>\n",
       "      <td>NaN</td>\n",
       "      <td>-1.245993</td>\n",
       "      <td>NaN</td>\n",
       "    </tr>\n",
       "    <tr>\n",
       "      <th>1</th>\n",
       "      <td>0.044755</td>\n",
       "      <td>-0.729418</td>\n",
       "      <td>-0.660839</td>\n",
       "      <td>0.180181</td>\n",
       "      <td>-0.657597</td>\n",
       "      <td>NaN</td>\n",
       "      <td>NaN</td>\n",
       "      <td>NaN</td>\n",
       "      <td>NaN</td>\n",
       "      <td>NaN</td>\n",
       "      <td>0.802573</td>\n",
       "      <td>NaN</td>\n",
       "    </tr>\n",
       "    <tr>\n",
       "      <th>2</th>\n",
       "      <td>0.503389</td>\n",
       "      <td>1.866293</td>\n",
       "      <td>1.849082</td>\n",
       "      <td>0.558351</td>\n",
       "      <td>1.864833</td>\n",
       "      <td>NaN</td>\n",
       "      <td>NaN</td>\n",
       "      <td>NaN</td>\n",
       "      <td>NaN</td>\n",
       "      <td>NaN</td>\n",
       "      <td>-1.245993</td>\n",
       "      <td>NaN</td>\n",
       "    </tr>\n",
       "    <tr>\n",
       "      <th>3</th>\n",
       "      <td>-0.187540</td>\n",
       "      <td>-0.729418</td>\n",
       "      <td>-0.660839</td>\n",
       "      <td>-0.092943</td>\n",
       "      <td>-0.657597</td>\n",
       "      <td>NaN</td>\n",
       "      <td>NaN</td>\n",
       "      <td>NaN</td>\n",
       "      <td>NaN</td>\n",
       "      <td>NaN</td>\n",
       "      <td>0.802573</td>\n",
       "      <td>NaN</td>\n",
       "    </tr>\n",
       "    <tr>\n",
       "      <th>4</th>\n",
       "      <td>0.420001</td>\n",
       "      <td>-0.729418</td>\n",
       "      <td>-0.660839</td>\n",
       "      <td>0.558351</td>\n",
       "      <td>1.864833</td>\n",
       "      <td>NaN</td>\n",
       "      <td>NaN</td>\n",
       "      <td>NaN</td>\n",
       "      <td>NaN</td>\n",
       "      <td>NaN</td>\n",
       "      <td>0.802573</td>\n",
       "      <td>NaN</td>\n",
       "    </tr>\n",
       "  </tbody>\n",
       "</table>\n",
       "</div>"
      ],
      "text/plain": [
       "   num_reactions  num_comments  num_shares  num_likes  num_loves  num_wows  \\\n",
       "0       2.260494      1.866293    1.849082   2.155071   1.864833       NaN   \n",
       "1       0.044755     -0.729418   -0.660839   0.180181  -0.657597       NaN   \n",
       "2       0.503389      1.866293    1.849082   0.558351   1.864833       NaN   \n",
       "3      -0.187540     -0.729418   -0.660839  -0.092943  -0.657597       NaN   \n",
       "4       0.420001     -0.729418   -0.660839   0.558351   1.864833       NaN   \n",
       "\n",
       "   num_hahas  num_sads  num_angrys  status_link  status_photo  status_status  \n",
       "0        NaN       NaN         NaN          NaN     -1.245993            NaN  \n",
       "1        NaN       NaN         NaN          NaN      0.802573            NaN  \n",
       "2        NaN       NaN         NaN          NaN     -1.245993            NaN  \n",
       "3        NaN       NaN         NaN          NaN      0.802573            NaN  \n",
       "4        NaN       NaN         NaN          NaN      0.802573            NaN  "
      ]
     },
     "execution_count": 166,
     "metadata": {},
     "output_type": "execute_result"
    }
   ],
   "source": []
  },
  {
   "cell_type": "code",
   "execution_count": 160,
   "metadata": {},
   "outputs": [
    {
     "data": {
      "text/plain": [
       "<matplotlib.axes._subplots.AxesSubplot at 0x2709c5db2c8>"
      ]
     },
     "execution_count": 160,
     "metadata": {},
     "output_type": "execute_result"
    },
    {
     "data": {
      "image/png": "[encoded data removed]",
      "text/plain": [
       "<Figure size 1440x216 with 1 Axes>"
      ]
     },
     "metadata": {
      "needs_background": "light"
     },
     "output_type": "display_data"
    }
   ],
   "source": [
    "data_new.boxplot(figsize=(20,3))"
   ]
  },
  {
   "cell_type": "code",
   "execution_count": 152,
   "metadata": {},
   "outputs": [],
   "source": []
  },
  {
   "cell_type": "code",
   "execution_count": 153,
   "metadata": {},
   "outputs": [
    {
     "data": {
      "text/plain": [
       "(7050, 6)"
      ]
     },
     "execution_count": 153,
     "metadata": {},
     "output_type": "execute_result"
    }
   ],
   "source": []
  },
  {
   "cell_type": "code",
   "execution_count": null,
   "metadata": {},
   "outputs": [],
   "source": []
  },
  {
   "cell_type": "code",
   "execution_count": null,
   "metadata": {},
   "outputs": [],
   "source": []
  },
  {
   "cell_type": "code",
   "execution_count": 162,
   "metadata": {},
   "outputs": [
    {
     "name": "stdout",
     "output_type": "stream",
     "text": [
      "Covariance Matrix \n",
      "%s [[ 1.00014186  0.54110292  0.45580023  0.99024655  0.47415156         nan\n",
      "          nan         nan         nan         nan -0.25446523         nan]\n",
      " [ 0.54110292  1.00014186  0.79020791  0.48568216  0.78846008         nan\n",
      "          nan         nan         nan         nan -0.44599823         nan]\n",
      " [ 0.45580023  0.79020791  1.00014186  0.39949395  0.72344869         nan\n",
      "          nan         nan         nan         nan -0.4819995          nan]\n",
      " [ 0.99024655  0.48568216  0.39949395  1.00014186  0.42544802         nan\n",
      "          nan         nan         nan         nan -0.21201568         nan]\n",
      " [ 0.47415156  0.78846008  0.72344869  0.42544802  1.00014186         nan\n",
      "          nan         nan         nan         nan -0.37641369         nan]\n",
      " [        nan         nan         nan         nan         nan         nan\n",
      "          nan         nan         nan         nan         nan         nan]\n",
      " [        nan         nan         nan         nan         nan         nan\n",
      "          nan         nan         nan         nan         nan         nan]\n",
      " [        nan         nan         nan         nan         nan         nan\n",
      "          nan         nan         nan         nan         nan         nan]\n",
      " [        nan         nan         nan         nan         nan         nan\n",
      "          nan         nan         nan         nan         nan         nan]\n",
      " [        nan         nan         nan         nan         nan         nan\n",
      "          nan         nan         nan         nan         nan         nan]\n",
      " [-0.25446523 -0.44599823 -0.4819995  -0.21201568 -0.37641369         nan\n",
      "          nan         nan         nan         nan  1.00014186         nan]\n",
      " [        nan         nan         nan         nan         nan         nan\n",
      "          nan         nan         nan         nan         nan         nan]]\n"
     ]
    }
   ],
   "source": [
    "# PCA\n",
    "# Step 1 - Create covariance matrix\n",
    "\n",
    "cov_matrix = np.cov(data_new.T)\n",
    "print('Covariance Matrix \\n%s', cov_matrix)\n"
   ]
  },
  {
   "cell_type": "code",
   "execution_count": 163,
   "metadata": {},
   "outputs": [
    {
     "ename": "LinAlgError",
     "evalue": "Array must not contain infs or NaNs",
     "output_type": "error",
     "traceback": [
      "\u001b[1;31m---------------------------------------------------------------------------\u001b[0m",
      "\u001b[1;31mLinAlgError\u001b[0m                               Traceback (most recent call last)",
      "\u001b[1;32m<ipython-input-163-e758381defbc>\u001b[0m in \u001b[0;36m<module>\u001b[1;34m\u001b[0m\n\u001b[0;32m      1\u001b[0m \u001b[1;31m# Step 2- Get eigen values and eigen vector\u001b[0m\u001b[1;33m\u001b[0m\u001b[1;33m\u001b[0m\u001b[1;33m\u001b[0m\u001b[0m\n\u001b[1;32m----> 2\u001b[1;33m \u001b[0meig_vals\u001b[0m\u001b[1;33m,\u001b[0m \u001b[0meig_vecs\u001b[0m \u001b[1;33m=\u001b[0m \u001b[0mnp\u001b[0m\u001b[1;33m.\u001b[0m\u001b[0mlinalg\u001b[0m\u001b[1;33m.\u001b[0m\u001b[0meig\u001b[0m\u001b[1;33m(\u001b[0m\u001b[0mcov_matrix\u001b[0m\u001b[1;33m)\u001b[0m\u001b[1;33m\u001b[0m\u001b[1;33m\u001b[0m\u001b[0m\n\u001b[0m\u001b[0;32m      3\u001b[0m \u001b[0mprint\u001b[0m\u001b[1;33m(\u001b[0m\u001b[1;34m'Eigen Vectors \\n%s'\u001b[0m\u001b[1;33m,\u001b[0m \u001b[0meig_vecs\u001b[0m\u001b[1;33m)\u001b[0m\u001b[1;33m\u001b[0m\u001b[1;33m\u001b[0m\u001b[0m\n\u001b[0;32m      4\u001b[0m \u001b[0mprint\u001b[0m\u001b[1;33m(\u001b[0m\u001b[1;34m'\\n Eigen Values \\n%s'\u001b[0m\u001b[1;33m,\u001b[0m \u001b[0meig_vals\u001b[0m\u001b[1;33m)\u001b[0m\u001b[1;33m\u001b[0m\u001b[1;33m\u001b[0m\u001b[0m\n",
      "\u001b[1;32m<__array_function__ internals>\u001b[0m in \u001b[0;36meig\u001b[1;34m(*args, **kwargs)\u001b[0m\n",
      "\u001b[1;32mC:\\ProgramData\\Anaconda3\\lib\\site-packages\\numpy\\linalg\\linalg.py\u001b[0m in \u001b[0;36meig\u001b[1;34m(a)\u001b[0m\n\u001b[0;32m   1293\u001b[0m     \u001b[0m_assert_stacked_2d\u001b[0m\u001b[1;33m(\u001b[0m\u001b[0ma\u001b[0m\u001b[1;33m)\u001b[0m\u001b[1;33m\u001b[0m\u001b[1;33m\u001b[0m\u001b[0m\n\u001b[0;32m   1294\u001b[0m     \u001b[0m_assert_stacked_square\u001b[0m\u001b[1;33m(\u001b[0m\u001b[0ma\u001b[0m\u001b[1;33m)\u001b[0m\u001b[1;33m\u001b[0m\u001b[1;33m\u001b[0m\u001b[0m\n\u001b[1;32m-> 1295\u001b[1;33m     \u001b[0m_assert_finite\u001b[0m\u001b[1;33m(\u001b[0m\u001b[0ma\u001b[0m\u001b[1;33m)\u001b[0m\u001b[1;33m\u001b[0m\u001b[1;33m\u001b[0m\u001b[0m\n\u001b[0m\u001b[0;32m   1296\u001b[0m     \u001b[0mt\u001b[0m\u001b[1;33m,\u001b[0m \u001b[0mresult_t\u001b[0m \u001b[1;33m=\u001b[0m \u001b[0m_commonType\u001b[0m\u001b[1;33m(\u001b[0m\u001b[0ma\u001b[0m\u001b[1;33m)\u001b[0m\u001b[1;33m\u001b[0m\u001b[1;33m\u001b[0m\u001b[0m\n\u001b[0;32m   1297\u001b[0m \u001b[1;33m\u001b[0m\u001b[0m\n",
      "\u001b[1;32mC:\\ProgramData\\Anaconda3\\lib\\site-packages\\numpy\\linalg\\linalg.py\u001b[0m in \u001b[0;36m_assert_finite\u001b[1;34m(*arrays)\u001b[0m\n\u001b[0;32m    216\u001b[0m     \u001b[1;32mfor\u001b[0m \u001b[0ma\u001b[0m \u001b[1;32min\u001b[0m \u001b[0marrays\u001b[0m\u001b[1;33m:\u001b[0m\u001b[1;33m\u001b[0m\u001b[1;33m\u001b[0m\u001b[0m\n\u001b[0;32m    217\u001b[0m         \u001b[1;32mif\u001b[0m \u001b[1;32mnot\u001b[0m \u001b[0misfinite\u001b[0m\u001b[1;33m(\u001b[0m\u001b[0ma\u001b[0m\u001b[1;33m)\u001b[0m\u001b[1;33m.\u001b[0m\u001b[0mall\u001b[0m\u001b[1;33m(\u001b[0m\u001b[1;33m)\u001b[0m\u001b[1;33m:\u001b[0m\u001b[1;33m\u001b[0m\u001b[1;33m\u001b[0m\u001b[0m\n\u001b[1;32m--> 218\u001b[1;33m             \u001b[1;32mraise\u001b[0m \u001b[0mLinAlgError\u001b[0m\u001b[1;33m(\u001b[0m\u001b[1;34m\"Array must not contain infs or NaNs\"\u001b[0m\u001b[1;33m)\u001b[0m\u001b[1;33m\u001b[0m\u001b[1;33m\u001b[0m\u001b[0m\n\u001b[0m\u001b[0;32m    219\u001b[0m \u001b[1;33m\u001b[0m\u001b[0m\n\u001b[0;32m    220\u001b[0m \u001b[1;32mdef\u001b[0m \u001b[0m_is_empty_2d\u001b[0m\u001b[1;33m(\u001b[0m\u001b[0marr\u001b[0m\u001b[1;33m)\u001b[0m\u001b[1;33m:\u001b[0m\u001b[1;33m\u001b[0m\u001b[1;33m\u001b[0m\u001b[0m\n",
      "\u001b[1;31mLinAlgError\u001b[0m: Array must not contain infs or NaNs"
     ]
    }
   ],
   "source": [
    "# Step 2- Get eigen values and eigen vector\n",
    "eig_vals, eig_vecs = np.linalg.eig(cov_matrix)\n",
    "print('Eigen Vectors \\n%s', eig_vecs)\n",
    "print('\\n Eigen Values \\n%s', eig_vals)"
   ]
  },
  {
   "cell_type": "markdown",
   "metadata": {},
   "source": [
    "2 eig vlues > 1"
   ]
  },
  {
   "cell_type": "code",
   "execution_count": 136,
   "metadata": {},
   "outputs": [
    {
     "name": "stdout",
     "output_type": "stream",
     "text": [
      "Cumulative Variance Explained:  [ 61.18757656  81.0679542   92.38625886  96.80421958  99.87631753\n",
      " 100.        ]\n"
     ]
    }
   ],
   "source": [
    "tot = sum(eig_vals)\n",
    "var_exp = [( i /tot ) * 100 for i in sorted(eig_vals, reverse=True)]\n",
    "cum_var_exp = np.cumsum(var_exp)\n",
    "print(\"Cumulative Variance Explained: \", cum_var_exp)"
   ]
  },
  {
   "cell_type": "code",
   "execution_count": 137,
   "metadata": {},
   "outputs": [
    {
     "data": {
      "text/plain": [
       "[<matplotlib.lines.Line2D at 0x27096a57b88>]"
      ]
     },
     "execution_count": 137,
     "metadata": {},
     "output_type": "execute_result"
    },
    {
     "data": {
      "image/png": "[encoded data removed]",
      "text/plain": [
       "<Figure size 432x288 with 1 Axes>"
      ]
     },
     "metadata": {
      "needs_background": "light"
     },
     "output_type": "display_data"
    }
   ],
   "source": [
    "plt.plot(var_exp)"
   ]
  },
  {
   "cell_type": "code",
   "execution_count": null,
   "metadata": {},
   "outputs": [],
   "source": []
  },
  {
   "cell_type": "code",
   "execution_count": 138,
   "metadata": {},
   "outputs": [
    {
     "data": {
      "image/png": "[encoded data removed]",
      "text/plain": [
       "<Figure size 720x360 with 1 Axes>"
      ]
     },
     "metadata": {
      "needs_background": "light"
     },
     "output_type": "display_data"
    }
   ],
   "source": [
    "# Ploting \n",
    "plt.figure(figsize=(10 , 5))\n",
    "plt.bar(range(1, eig_vals.size + 1), var_exp, alpha = 0.5, align = 'center', label = 'Individual explained variance')\n",
    "plt.step(range(1, eig_vals.size + 1), cum_var_exp, where='mid', label = 'Cumulative explained variance')\n",
    "plt.ylabel('Explained Variance Ratio')\n",
    "plt.xlabel('Principal Components')\n",
    "plt.legend(loc = 'best')\n",
    "plt.tight_layout()\n",
    "plt.show()"
   ]
  },
  {
   "cell_type": "code",
   "execution_count": 140,
   "metadata": {},
   "outputs": [
    {
     "data": {
      "text/plain": [
       "array([[ 4.62081218, -1.04737109,  3.25611194, ..., -1.6827814 ,\n",
       "         1.63447395, -1.7462034 ],\n",
       "       [ 0.54175276,  0.97801681, -1.33976615, ..., -0.18899446,\n",
       "         1.37069957,  0.00557368]])"
      ]
     },
     "execution_count": 140,
     "metadata": {},
     "output_type": "execute_result"
    }
   ],
   "source": [
    "# Using scikit learn PCA here. It does all the above steps and maps data to PCA dimensions in one shot\n",
    "from sklearn.decomposition import PCA\n",
    "\n",
    "# NOTE - we are generating only 4 PCA dimensions \n",
    "\n",
    "pca = PCA(n_components=2)\n",
    "data_reduced = pca.fit_transform(data_new)\n",
    "data_reduced.T  #transpose"
   ]
  },
  {
   "cell_type": "code",
   "execution_count": 141,
   "metadata": {},
   "outputs": [
    {
     "data": {
      "text/plain": [
       "array([[ 0.4177248 ,  0.46027233,  0.43503504,  0.39500595,  0.43114378,\n",
       "        -0.28720242],\n",
       "       [ 0.53743156, -0.21750263, -0.31448671,  0.58695027, -0.24019581,\n",
       "         0.40342705]])"
      ]
     },
     "execution_count": 141,
     "metadata": {},
     "output_type": "execute_result"
    }
   ],
   "source": [
    "pca.components_"
   ]
  },
  {
   "cell_type": "code",
   "execution_count": 142,
   "metadata": {},
   "outputs": [
    {
     "data": {
      "text/plain": [
       "array([0.61187577, 0.19880378])"
      ]
     },
     "execution_count": 142,
     "metadata": {},
     "output_type": "execute_result"
    }
   ],
   "source": [
    "pca.explained_variance_ratio_"
   ]
  },
  {
   "cell_type": "code",
   "execution_count": 143,
   "metadata": {},
   "outputs": [
    {
     "data": {
      "text/plain": [
       "array([61.2, 81.1])"
      ]
     },
     "execution_count": 143,
     "metadata": {},
     "output_type": "execute_result"
    }
   ],
   "source": [
    "var=np.cumsum(np.round(pca.explained_variance_ratio_, decimals=3)*100)\n",
    "var #cumulative sum of variance explained with [n] features"
   ]
  },
  {
   "cell_type": "code",
   "execution_count": 144,
   "metadata": {},
   "outputs": [
    {
     "data": {
      "text/plain": [
       "[<matplotlib.lines.Line2D at 0x27098709788>]"
      ]
     },
     "execution_count": 144,
     "metadata": {},
     "output_type": "execute_result"
    },
    {
     "data": {
      "image/png": "[encoded data removed]",
      "text/plain": [
       "<Figure size 432x288 with 1 Axes>"
      ]
     },
     "metadata": {
      "needs_background": "light"
     },
     "output_type": "display_data"
    }
   ],
   "source": [
    "plt.plot(var)"
   ]
  },
  {
   "cell_type": "code",
   "execution_count": 145,
   "metadata": {},
   "outputs": [
    {
     "data": {
      "text/html": [
       "<div>\n",
       "<style scoped>\n",
       "    .dataframe tbody tr th:only-of-type {\n",
       "        vertical-align: middle;\n",
       "    }\n",
       "\n",
       "    .dataframe tbody tr th {\n",
       "        vertical-align: top;\n",
       "    }\n",
       "\n",
       "    .dataframe thead th {\n",
       "        text-align: right;\n",
       "    }\n",
       "</style>\n",
       "<table border=\"1\" class=\"dataframe\">\n",
       "  <thead>\n",
       "    <tr style=\"text-align: right;\">\n",
       "      <th></th>\n",
       "      <th>num_reactions</th>\n",
       "      <th>num_comments</th>\n",
       "      <th>num_shares</th>\n",
       "      <th>num_likes</th>\n",
       "      <th>num_loves</th>\n",
       "      <th>status_photo</th>\n",
       "    </tr>\n",
       "  </thead>\n",
       "  <tbody>\n",
       "    <tr>\n",
       "      <th>0</th>\n",
       "      <td>0.417725</td>\n",
       "      <td>0.460272</td>\n",
       "      <td>0.435035</td>\n",
       "      <td>0.395006</td>\n",
       "      <td>0.431144</td>\n",
       "      <td>-0.287202</td>\n",
       "    </tr>\n",
       "    <tr>\n",
       "      <th>1</th>\n",
       "      <td>0.537432</td>\n",
       "      <td>-0.217503</td>\n",
       "      <td>-0.314487</td>\n",
       "      <td>0.586950</td>\n",
       "      <td>-0.240196</td>\n",
       "      <td>0.403427</td>\n",
       "    </tr>\n",
       "  </tbody>\n",
       "</table>\n",
       "</div>"
      ],
      "text/plain": [
       "   num_reactions  num_comments  num_shares  num_likes  num_loves  status_photo\n",
       "0       0.417725      0.460272    0.435035   0.395006   0.431144     -0.287202\n",
       "1       0.537432     -0.217503   -0.314487   0.586950  -0.240196      0.403427"
      ]
     },
     "execution_count": 145,
     "metadata": {},
     "output_type": "execute_result"
    }
   ],
   "source": [
    "df_comp = pd.DataFrame(pca.components_,columns=list(data_new))\n",
    "df_comp.head()"
   ]
  },
  {
   "cell_type": "code",
   "execution_count": 146,
   "metadata": {},
   "outputs": [
    {
     "data": {
      "text/plain": [
       "<matplotlib.axes._subplots.AxesSubplot at 0x27098741148>"
      ]
     },
     "execution_count": 146,
     "metadata": {},
     "output_type": "execute_result"
    },
    {
     "data": {
      "image/png": "[encoded data removed]",
      "text/plain": [
       "<Figure size 864x432 with 2 Axes>"
      ]
     },
     "metadata": {
      "needs_background": "light"
     },
     "output_type": "display_data"
    }
   ],
   "source": [
    "plt.figure(figsize=(12,6))\n",
    "sns.heatmap(df_comp,cmap='plasma',)"
   ]
  },
  {
   "cell_type": "code",
   "execution_count": 73,
   "metadata": {},
   "outputs": [],
   "source": [
    "# This heatmap and the color bar basically represent the correlation between the various feature \n",
    "# and the principal component itself\n",
    "# Component 5 looks more related to size and shape - We can label it as physical property\n",
    "# PC1 could be labeeled with Mitoses\n",
    "# Depending on relations ship, we could go ahead and label relationship with features"
   ]
  },
  {
   "cell_type": "code",
   "execution_count": null,
   "metadata": {},
   "outputs": [],
   "source": []
  },
  {
   "cell_type": "code",
   "execution_count": null,
   "metadata": {},
   "outputs": [],
   "source": []
  },
  {
   "cell_type": "code",
   "execution_count": null,
   "metadata": {},
   "outputs": [],
   "source": []
  }
 ],
 "metadata": {
  "kernelspec": {
   "display_name": "Python 3",
   "language": "python",
   "name": "python3"
  },
  "language_info": {
   "codemirror_mode": {
    "name": "ipython",
    "version": 3
   },
   "file_extension": ".py",
   "mimetype": "text/x-python",
   "name": "python",
   "nbconvert_exporter": "python",
   "pygments_lexer": "ipython3",
   "version": "3.8.3"
  }
 },
 "nbformat": 4,
 "nbformat_minor": 4
}
